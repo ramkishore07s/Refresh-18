{
 "cells": [
  {
   "cell_type": "code",
   "execution_count": 5,
   "metadata": {
    "collapsed": true
   },
   "outputs": [],
   "source": [
    "import torch\n",
    "import torch.nn as nn\n",
    "import torch.optim as optim"
   ]
  },
  {
   "cell_type": "code",
   "execution_count": 6,
   "metadata": {
    "collapsed": true
   },
   "outputs": [],
   "source": [
    "import numpy as np"
   ]
  },
  {
   "cell_type": "code",
   "execution_count": 7,
   "metadata": {
    "collapsed": true
   },
   "outputs": [],
   "source": [
    "import matplotlib.pyplot as plt"
   ]
  },
  {
   "cell_type": "markdown",
   "metadata": {},
   "source": [
    "**CLASSIFIER UTILS**"
   ]
  },
  {
   "cell_type": "code",
   "execution_count": 4,
   "metadata": {
    "collapsed": true
   },
   "outputs": [],
   "source": [
    "def train_classifier(model, lines, output, batches, iterations=1):\n",
    "    errors = []\n",
    "    lossfunc = nn.BCELoss()\n",
    "    optimizer = optim.Adagrad(model.parameters())\n",
    "    for _ in range(iterations):\n",
    "        for batch in batches:\n",
    "            try:\n",
    "                if len(batch) == 20:\n",
    "                    input = torch.cuda.LongTensor([lines[n] for n in batch])\n",
    "                    truth = torch.cuda.FloatTensor([output[n] for n in batch])\n",
    "                    truth[truth == 2] = 0\n",
    "                    pred = model(input)\n",
    "                    model.zero_grad()\n",
    "                    loss = lossfunc(pred, truth)\n",
    "                    loss.backward()\n",
    "                    optimizer.step()\n",
    "                    errors.append(loss.data)\n",
    "            except:\n",
    "                print('ad')\n",
    "            print(batches.index(batch), end='\\r')\n",
    "        plt.plot(errors)"
   ]
  },
  {
   "cell_type": "code",
   "execution_count": 5,
   "metadata": {
    "collapsed": true
   },
   "outputs": [],
   "source": [
    "def get_summaries(model, lines_, batches, doc_folder, write_folder):\n",
    "    for batch in batches:\n",
    "        input = torch.cuda.LongTensor([lines_[n] for n in batch])\n",
    "        pred = model(input)\n",
    "        _idx = torch.sort(pred, descending=True)[1].data\n",
    "        for lines, docid in zip(_idx, batch):\n",
    "            with open(doc_folder + str(docid)) as f:\n",
    "                content = f.readlines()\n",
    "                selected_lines = [content[l] for l in lines[0:3]]\n",
    "                with open(write_folder + str(docid), 'w+') as f2:\n",
    "                    [f2.write(line) for line in selected_lines]"
   ]
  },
  {
   "cell_type": "code",
   "execution_count": null,
   "metadata": {
    "collapsed": true
   },
   "outputs": [],
   "source": [
    "def get_file(doc_id, write_folder):\n",
    "    print(open(write_folder + str(doc_id)).read())"
   ]
  },
  {
   "cell_type": "code",
   "execution_count": null,
   "metadata": {
    "collapsed": true
   },
   "outputs": [],
   "source": [
    "def compute_accuracies(model, lines_, output, batches):\n",
    "    tp, fn, fp = 0, 0, 0\n",
    "    for batch in batches:\n",
    "        input = torch.cuda.LongTensor([lines_[n] for n in batch])\n",
    "        truth = torch.cuda.ByteTensor([output[n] for n in batch])\n",
    "        pred = model(input)\n",
    "        tp += torch.sum(pred.gt(0.5) * truth)\n",
    "        fn += torch.sum(pred.le(0.5) * truth)\n",
    "        fp += torch.sum(pred.gt(0.5) * truth.le(0.))\n",
    "    tp = tp.float()\n",
    "    fn = fn.float()\n",
    "    fp = fp.float()\n",
    "    precision = tp / (tp + fp)\n",
    "    recall = tp / (tp + fn)\n",
    "    f1 = 2 * precision * recall /(precision + recall)\n",
    "    \n",
    "    return {'precision': precision, 'recall': recall ,'f1': f1}"
   ]
  },
  {
   "cell_type": "markdown",
   "metadata": {},
   "source": [
    "**REFRESH UTILS**"
   ]
  },
  {
   "cell_type": "code",
   "execution_count": 79,
   "metadata": {
    "collapsed": true
   },
   "outputs": [],
   "source": [
    "def compute_refresh_loss(bceloss, pred_, scores_, max_=5):\n",
    "    '''\n",
    "    for output of length 1\n",
    "    '''\n",
    "    l = Variable(torch.zeros(1), requires_grad=True).cuda()\n",
    "    for pred, scores in zip(pred_, scores_):\n",
    "        for sentences, score in scores[0:max_]:\n",
    "            truth = np.zeros(pred.size(0))\n",
    "            truth[list(sentences)] = 1\n",
    "            truth = torch.cuda.FloatTensor(truth)\n",
    "            score = torch.cuda.FloatTensor([score])[0]\n",
    "            l = l + bceloss(pred, truth) * score\n",
    "    return l / 20."
   ]
  },
  {
   "cell_type": "code",
   "execution_count": null,
   "metadata": {
    "collapsed": true
   },
   "outputs": [],
   "source": [
    "def train_reinforce(model, lines, scores, batches, iterations, max_=5):\n",
    "    errors = []\n",
    "    lossfunc = nn.BCELoss()\n",
    "    optimizer = optim.Adagrad(model.parameters())\n",
    "    for _ in range(iterations):\n",
    "        for batch in batches:\n",
    "            if len(batch) == 20:\n",
    "                input = torch.cuda.LongTensor([lines[n] for n in batch])\n",
    "                scores_ = [scores[i] for i in batch]\n",
    "                pred = model(input)\n",
    "                model.zero_grad()\n",
    "                \n",
    "                loss = compute_refresh_loss(lossfunc, pred, scores_, max_)\n",
    "                loss.backward()\n",
    "                optimizer.step()\n",
    "                errors.append(loss.data)\n",
    "                    \n",
    "\n",
    "                print(loss.data, batches.index(batch), end='\\r')\n",
    "        plt.plot(errors)"
   ]
  }
 ],
 "metadata": {
  "kernelspec": {
   "display_name": "refresh",
   "language": "python",
   "name": "refresh"
  },
  "language_info": {
   "codemirror_mode": {
    "name": "ipython",
    "version": 3
   },
   "file_extension": ".py",
   "mimetype": "text/x-python",
   "name": "python",
   "nbconvert_exporter": "python",
   "pygments_lexer": "ipython3",
   "version": "3.5.2"
  }
 },
 "nbformat": 4,
 "nbformat_minor": 2
}
