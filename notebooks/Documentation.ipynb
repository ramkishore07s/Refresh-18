{
 "cells": [
  {
   "cell_type": "markdown",
   "metadata": {},
   "source": [
    "# Documentation"
   ]
  },
  {
   "cell_type": "markdown",
   "metadata": {},
   "source": [
    "## Config\n",
    "**Preprocess**\n",
    "* Entitiy Map file\n",
    "* Vocab file"
   ]
  },
  {
   "cell_type": "markdown",
   "metadata": {},
   "source": [
    "## Class Preprocess\n",
    "**States**\n",
    "\n",
    "* *Vocab:* Dictionary of words and corresponding counts\n",
    "\n",
    "**Functions:**\n",
    "\n",
    "* *sentence_tokeniser()*\n",
    "    * input: raw string / raw list of strings\n",
    "    * output: list of strings / list of list of strings\n",
    "    * purpose: segments text into lines\n",
    "* *word_tokeniser(update_vocab=?)*\n",
    "    * input: raw list of strings / list of list of strings\n",
    "    * output: list of list of strings / list of list of list of strings\n",
    "    * purpose: segments lines into words\n",
    "* *dump_vocab(filename)*\n",
    "    * input: filename\n",
    "    * purpose: dumps vocab as pkl"
   ]
  },
  {
   "cell_type": "markdown",
   "metadata": {},
   "source": [
    "## Class WordEmbeddings\n",
    "**States**\n",
    "* *word2idx:* words and corresponding ids\n",
    "* *vectors:* list of vectors\n",
    "\n",
    "**Functions**\n",
    "* *load_glove(filename)*\n",
    "    * input: glove file name\n",
    "    * purpose: updates states\n",
    "* *modifiy_pretrained(vocab)*\n",
    "    * subsampling based on vocab\n",
    "* *add_to_vocab(word)*\n",
    "    * add word to vocab\n",
    "* *dump_all(filename)*\n",
    "    * save states as filename"
   ]
  },
  {
   "cell_type": "markdown",
   "metadata": {},
   "source": [
    "## Class ProcessNeuralSum\n",
    "\n",
    "**Inherits Preprocess**\n",
    "\n",
    "**States**\n",
    "\n",
    "* *Entity Map:* Maps entities to their corresponding names\n",
    "\n",
    "**Functions:**\n",
    "* *parse_file()*\n",
    "    * input: file of prespecifed format\n",
    "    * output: [lines, summary]\n",
    "    * purpose: parses file into document and summary\n",
    "* *parse_folder()*\n",
    "    * input: folder\n",
    "    * output: folder\n",
    "    * purpose: writes raw files from one folder to another folder after processing"
   ]
  },
  {
   "cell_type": "markdown",
   "metadata": {},
   "source": []
  },
  {
   "cell_type": "code",
   "execution_count": null,
   "metadata": {
    "collapsed": true
   },
   "outputs": [],
   "source": []
  }
 ],
 "metadata": {
  "kernelspec": {
   "display_name": "refresh",
   "language": "python",
   "name": "refresh"
  },
  "language_info": {
   "codemirror_mode": {
    "name": "ipython",
    "version": 3
   },
   "file_extension": ".py",
   "mimetype": "text/x-python",
   "name": "python",
   "nbconvert_exporter": "python",
   "pygments_lexer": "ipython3",
   "version": "3.5.2"
  }
 },
 "nbformat": 4,
 "nbformat_minor": 2
}
