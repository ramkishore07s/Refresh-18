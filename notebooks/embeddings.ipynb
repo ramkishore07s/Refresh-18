{
 "cells": [
  {
   "cell_type": "code",
   "execution_count": 1,
   "metadata": {
    "collapsed": true,
    "jupyter": {
     "outputs_hidden": true
    }
   },
   "outputs": [],
   "source": [
    "import os\n",
    "import _pickle as pickle\n",
    "import numpy as np\n",
    "import random"
   ]
  },
  {
   "cell_type": "code",
   "execution_count": 4,
   "metadata": {
    "collapsed": true,
    "jupyter": {
     "outputs_hidden": true
    }
   },
   "outputs": [],
   "source": [
    "class GloveEmbeddings:\n",
    "    def __init__(self):\n",
    "        self.word2id = {}\n",
    "        self.vectors = []\n",
    "        self.words = []\n",
    "        self.dim = None\n",
    "        \n",
    "    def load_glove(self, filename):\n",
    "        id = 0\n",
    "        with open(filename) as file:\n",
    "            for line_ in file:\n",
    "                line = line_.split()\n",
    "                word = line[0]\n",
    "                self.words.append(word)\n",
    "                self.word2id[word] , id = id, id + 1\n",
    "                vect = np.array(line[1:]).astype(np.float)\n",
    "                self.vectors.append(vect)\n",
    "        self.vectors = np.array(self.vectors)\n",
    "        self.dim = self.vectors.shape[-1]\n",
    "        self.add_to_vocab('<unk>')\n",
    "        self.add_to_vocab('<pad>')\n",
    "        \n",
    "        self.unknown_idx = self.word2id['<unk>']\n",
    "        self.padding_idx = self.word2id['<pad>']\n",
    "    \n",
    "    def modify_pretrained(self, vocab):\n",
    "        for i in vocab.values():\n",
    "            self.add_to_vocab(i)\n",
    "    \n",
    "    def add_to_vocab(self, word):\n",
    "        word = word.lower()\n",
    "        self.words.append(word)\n",
    "        self.word2id[word] = len(self.words) - 1\n",
    "        self.vectors = np.append(self.vectors, np.random.random(self.dim))\n",
    "        \n",
    "    def dump_all(self, filename):\n",
    "        pickle.dump([self.word2id, self.vectors.reshape(-1), self.words, self.dim], open(filename, 'wb+'))\n",
    "        \n",
    "    def load_dump(self, filename1):\n",
    "        self.word2id, self.vectors, self.words, self.dim = pickle.load(open(filename1, 'rb+'))\n",
    "        self.vectors = self.vectors.reshape(-1, self.dim)\n",
    "        \n",
    "    def convert_to_indices(self, lines):\n",
    "        '''\n",
    "        @param lines: lines are list of list of strings. each string is considered as a token\n",
    "        '''\n",
    "        indices = []\n",
    "        for line in lines:\n",
    "            indices.append([])\n",
    "            for word in line:\n",
    "                if word in self.word2id:\n",
    "                    id = self.word2id[word]\n",
    "                elif word.lower() in self.word2id:\n",
    "                    id = self.word2id[word.lower()]\n",
    "                else:\n",
    "                    id = self.word2id['<unk>']\n",
    "                indices[-1].append(id)\n",
    "        return indices"
   ]
  }
 ],
 "metadata": {
  "kernelspec": {
   "display_name": "AI",
   "language": "python",
   "name": "ai"
  },
  "language_info": {
   "codemirror_mode": {
    "name": "ipython",
    "version": 3
   },
   "file_extension": ".py",
   "mimetype": "text/x-python",
   "name": "python",
   "nbconvert_exporter": "python",
   "pygments_lexer": "ipython3",
   "version": "3.6.6"
  }
 },
 "nbformat": 4,
 "nbformat_minor": 2
}
