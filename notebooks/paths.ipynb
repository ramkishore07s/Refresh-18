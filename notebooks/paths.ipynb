{
 "cells": [
  {
   "cell_type": "code",
   "execution_count": 2,
   "metadata": {
    "collapsed": true
   },
   "outputs": [],
   "source": [
    "class config:\n",
    "    pass"
   ]
  },
  {
   "cell_type": "code",
   "execution_count": 3,
   "metadata": {},
   "outputs": [],
   "source": [
    "CONFIG = config()\n",
    "\n",
    "CONFIG.PROJECT_ROOT = '/home/ramkishore.s/refresh/'\n",
    "CONFIG.DATA_FOLDER = CONFIG.PROJECT_ROOT + 'data/'\n",
    "\n",
    "CONFIG.RAW_DATASET_FOLDER = CONFIG.DATA_FOLDER + 'neuralsum/'\n",
    "CONFIG.PROCESSED_DATASET_FOLDER = CONFIG.DATA_FOLDER + 'processed/'\n",
    "\n",
    "CONFIG.PREDICTED_SUMMARY_FOLDER = CONFIG.DATA_FOLDER + 'summaries/'\n",
    "\n",
    "CONFIG.ROUGE_FOLDER = '/home/ramkishore.s/meta/ROUGE-1.5.5/'\n",
    "CONFIG.ROUGE_EVAL_FOLDER = '/home/ramkishore.s/ssd/project/'\n",
    "\n",
    "CONFIG.GLOVE_FOLDER = '/home/ramkishore.s/meta/glove/'\n",
    "CONFIG.GLOVE_CACHE_FILENAME = '/home/ramkishore.s/refresh/data/glove_cache.pkl'\n",
    "CONFIG.GLOVE_FILENAME = '/home/ramkishore.s/meta/glove/glove.6B.100d.txt'"
   ]
  },
  {
   "cell_type": "code",
   "execution_count": 5,
   "metadata": {
    "collapsed": true
   },
   "outputs": [],
   "source": [
    "CONFIG.RAW_CNN_TRAIN_FOLDER = CONFIG.RAW_DATASET_FOLDER + 'cnn/training/'\n",
    "CONFIG.RAW_CNN_TEST_FOLDER = CONFIG.RAW_DATASET_FOLDER + 'cnn/test/'\n",
    "CONFIG.RAW_CNN_VALIDATION_FOLDER = CONFIG.RAW_DATASET_FOLDER + 'cnn/validation/'\n",
    "\n",
    "CONFIG.CNN_TRAIN_SUMMARY_FOLDER = CONFIG.PROCESSED_DATASET_FOLDER + 'cnn/summaries/train/'\n",
    "CONFIG.CNN_TEST_SUMMARY_FOLDER = CONFIG.PROCESSED_DATASET_FOLDER + 'cnn/summaries/test/'\n",
    "CONFIG.CNN_VALIDATION_SUMMARY_FOLDER = CONFIG.PROCESSED_DATASET_FOLDER + 'cnn/summaries/validation/'\n",
    "\n",
    "CONFIG.CNN_TRAIN_DOCUMENTS_FOLDER = CONFIG.PROCESSED_DATASET_FOLDER + 'cnn/documents/train/'\n",
    "CONFIG.CNN_TEST_DOCUMENTS_FOLDER = CONFIG.PROCESSED_DATASET_FOLDER + 'cnn/documents/test/'\n",
    "CONFIG.CNN_VALIDATION_DOCUMENTS_FOLDER = CONFIG.PROCESSED_DATASET_FOLDER + 'cnn/documents/validation/'\n",
    "\n",
    "CONFIG.CNN_TRAIN_OUTPUT_FOLDER = CONFIG.PROCESSED_DATASET_FOLDER + 'cnn/output/train/'\n",
    "CONFIG.CNN_TEST_OUTPUT_FOLDER = CONFIG.PROCESSED_DATASET_FOLDER + 'cnn/output/test/'\n",
    "CONFIG.CNN_VALIDATION_OUTPUT_FOLDER = CONFIG.PROCESSED_DATASET_FOLDER + 'cnn/output/validation/'\n",
    "\n",
    "CONFIG.CNN_TRAIN_DUMP = CONFIG.PROCESSED_DATASET_FOLDER + 'cnn/train.pkl'\n",
    "CONFIG.CNN_TEST_DUMP = CONFIG.PROCESSED_DATASET_FOLDER + 'cnn/test.pkl'\n",
    "CONFIG.CNN_VALIDATION_DUMP = CONFIG.PROCESSED_DATASET_FOLDER + 'cnn/validation.pkl'\n",
    "\n",
    "CONFIG.CNN_PADDED_TRAIN_DUMP = CONFIG.PROCESSED_DATASET_FOLDER + 'cnn/train_padded.pkl'\n",
    "CONFIG.CNN_PADDED_TEST_DUMP = CONFIG.PROCESSED_DATASET_FOLDER + 'cnn/test_padded.pkl'\n",
    "CONFIG.CNN_PADDED_VALIDATION_DUMP = CONFIG.PROCESSED_DATASET_FOLDER + 'cnn/validation_padded.pkl'\n",
    "\n",
    "CONFIG.CNN_TRAIN_ROUGE_DUMP = CONFIG.PROCESSED_DATASET_FOLDER + 'cnn/rouge_dump.pkl'"
   ]
  },
  {
   "cell_type": "code",
   "execution_count": 6,
   "metadata": {
    "collapsed": true
   },
   "outputs": [],
   "source": [
    "CONFIG.MAX_DOC_LEN = 90"
   ]
  },
  {
   "cell_type": "code",
   "execution_count": null,
   "metadata": {
    "collapsed": true
   },
   "outputs": [],
   "source": []
  }
 ],
 "metadata": {
  "kernelspec": {
   "display_name": "refresh",
   "language": "python",
   "name": "refresh"
  },
  "language_info": {
   "codemirror_mode": {
    "name": "ipython",
    "version": 3
   },
   "file_extension": ".py",
   "mimetype": "text/x-python",
   "name": "python",
   "nbconvert_exporter": "python",
   "pygments_lexer": "ipython3",
   "version": "3.5.2"
  }
 },
 "nbformat": 4,
 "nbformat_minor": 2
}
