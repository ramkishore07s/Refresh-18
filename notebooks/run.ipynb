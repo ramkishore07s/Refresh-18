{
 "cells": [
  {
   "cell_type": "code",
   "execution_count": 72,
   "metadata": {},
   "outputs": [],
   "source": [
    "import nltk\n",
    "import shutil"
   ]
  },
  {
   "cell_type": "code",
   "execution_count": 33,
   "metadata": {},
   "outputs": [],
   "source": [
    "%run dataset.ipynb\n",
    "%run model.ipynb"
   ]
  },
  {
   "cell_type": "code",
   "execution_count": 79,
   "metadata": {},
   "outputs": [],
   "source": [
    "batch_size = 20\n",
    "input_folder = './sample test/'\n",
    "output_folder = './sample summaries/'\n",
    "filenames = [f for f in os.listdir(folder) if \".txt\" in f]"
   ]
  },
  {
   "cell_type": "code",
   "execution_count": 17,
   "metadata": {},
   "outputs": [],
   "source": [
    "g = GloveEmbeddings()\n",
    "g.load_dump('../data/glove.pkl')"
   ]
  },
  {
   "cell_type": "code",
   "execution_count": 58,
   "metadata": {},
   "outputs": [
    {
     "data": {
      "text/plain": [
       "EncoderDecoder(\n",
       "  (sentenceEncoder): KimCNN(\n",
       "    (embeddings): Embedding(400002, 200)\n",
       "    (convolutions): ModuleList(\n",
       "      (0): Conv2d(1, 50, kernel_size=(1, 200), stride=(1, 1))\n",
       "      (1): Conv2d(1, 50, kernel_size=(2, 200), stride=(1, 1))\n",
       "      (2): Conv2d(1, 50, kernel_size=(3, 200), stride=(1, 1))\n",
       "      (3): Conv2d(1, 50, kernel_size=(4, 200), stride=(1, 1))\n",
       "      (4): Conv2d(1, 50, kernel_size=(5, 200), stride=(1, 1))\n",
       "      (5): Conv2d(1, 50, kernel_size=(6, 200), stride=(1, 1))\n",
       "      (6): Conv2d(1, 50, kernel_size=(7, 200), stride=(1, 1))\n",
       "    )\n",
       "  )\n",
       "  (documentEncoder): LSTM(350, 600, batch_first=True)\n",
       "  (documentDecoder): LSTM(350, 600, batch_first=True)\n",
       "  (classifier): Linear(in_features=600, out_features=2, bias=True)\n",
       ")"
      ]
     },
     "execution_count": 58,
     "metadata": {},
     "output_type": "execute_result"
    }
   ],
   "source": [
    "m = EncoderDecoder(torch.cuda.FloatTensor(g.vectors), word_emb_size=g.dim, \n",
    "                       sen_emb_size=350, doc_emb_size=600, sen_len=50, batch_size=20, output_dim=2,\n",
    "                       reverse=True)\n",
    "\n",
    "m.load_state_dict(torch.load(\"./cnn.params\"))\n",
    "m.cuda()"
   ]
  },
  {
   "cell_type": "code",
   "execution_count": 68,
   "metadata": {},
   "outputs": [],
   "source": [
    "for i in range(0, len(filenames), batch_size):\n",
    "    summaries = []\n",
    "\n",
    "    for filename in filenames[i:i+batch_size]:\n",
    "        d.data = []\n",
    "\n",
    "        text = open(os.path.join(folder, filename)).read()\n",
    "        sentences = nltk.tokenize.sent_tokenize(text)\n",
    "        words = [nltk.tokenize.word_tokenize(sentence) for sentence in sentences]\n",
    "        d.data.append(g.convert_to_indices(words))\n",
    "        \n",
    "        d.pad()\n",
    "\n",
    "        with torch.no_grad():\n",
    "            pred = m(torch.cuda.LongTensor(d.lines))\n",
    "            for i, lines in enumerate(pred.data):\n",
    "                pos = [l[1].data for l in lines]\n",
    "                selected_lines = list(zip(*sorted(zip(pos, range(len(pos))), key=lambda x: x[0], reverse=True)))[1][0:summary_len]\n",
    "                selected_lines = [sentences[i] for i in selected_lines if i < len(words[i])]\n",
    "                summaries.append(selected_lines)"
   ]
  },
  {
   "cell_type": "code",
   "execution_count": 80,
   "metadata": {},
   "outputs": [],
   "source": [
    "if os.path.exists(output_folder): shutil.rmtree(output_folder)\n",
    "os.mkdir(output_folder)"
   ]
  },
  {
   "cell_type": "code",
   "execution_count": 78,
   "metadata": {},
   "outputs": [],
   "source": [
    "for filename, summary in zip(filenames, summaries):\n",
    "    with open(os.path.join(output_folder, filename), 'w+') as f:\n",
    "        f.writelines(summary)"
   ]
  }
 ],
 "metadata": {
  "kernelspec": {
   "display_name": "AI",
   "language": "python",
   "name": "ai"
  },
  "language_info": {
   "codemirror_mode": {
    "name": "ipython",
    "version": 3
   },
   "file_extension": ".py",
   "mimetype": "text/x-python",
   "name": "python",
   "nbconvert_exporter": "python",
   "pygments_lexer": "ipython3",
   "version": "3.6.6"
  }
 },
 "nbformat": 4,
 "nbformat_minor": 2
}
