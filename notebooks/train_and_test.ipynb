{
 "cells": [
  {
   "cell_type": "code",
<<<<<<< HEAD
   "execution_count": 2,
=======
   "execution_count": 26,
>>>>>>> 14ba256f457a7ef567dfb2011af64a82a4e13fb4
   "metadata": {},
   "outputs": [],
   "source": [
    "%run dataset.ipynb\n",
    "%run model.ipynb\n",
    "%run utils.ipynb\n",
    "%run rouge.ipynb"
   ]
  },
  {
   "cell_type": "code",
<<<<<<< HEAD
   "execution_count": null,
=======
   "execution_count": 2,
>>>>>>> 14ba256f457a7ef567dfb2011af64a82a4e13fb4
   "metadata": {},
   "outputs": [],
   "source": [
    "torch.cuda.set_device(1)"
   ]
  },
  {
   "cell_type": "code",
<<<<<<< HEAD
   "execution_count": 4,
=======
   "execution_count": 5,
>>>>>>> 14ba256f457a7ef567dfb2011af64a82a4e13fb4
   "metadata": {},
   "outputs": [],
   "source": [
    "g = NeuralSumToEmbedding(glove_filename='/home/ramkishore.s/meta/glove/glove.6B.200d.txt')\n",
    "g.vectors = g.vectors.reshape(-1, g.dim)"
   ]
  },
  {
   "cell_type": "code",
<<<<<<< HEAD
   "execution_count": null,
=======
   "execution_count": 17,
>>>>>>> 14ba256f457a7ef567dfb2011af64a82a4e13fb4
   "metadata": {},
   "outputs": [],
   "source": [
    "train = DataHandler()\n",
    "train.load_dump('../data/processed/cnn/training.pkl')\n",
    "train.pad(padding_idx=g.padding_idx)\n",
    "train.make_batches(20)"
   ]
  },
  {
   "cell_type": "code",
<<<<<<< HEAD
   "execution_count": 5,
=======
   "execution_count": 23,
>>>>>>> 14ba256f457a7ef567dfb2011af64a82a4e13fb4
   "metadata": {},
   "outputs": [],
   "source": [
    "test = DataHandler()\n",
    "test.load_dump('../data/processed/cnn/test.pkl')\n",
    "test.pad(padding_idx=g.padding_idx)\n",
    "test.make_batches(20)"
   ]
  },
  {
   "cell_type": "code",
<<<<<<< HEAD
   "execution_count": null,
   "metadata": {},
   "outputs": [],
   "source": [
    "len(test.lines[2])"
   ]
  },
  {
   "cell_type": "code",
   "execution_count": null,
=======
   "execution_count": 11,
>>>>>>> 14ba256f457a7ef567dfb2011af64a82a4e13fb4
   "metadata": {},
   "outputs": [],
   "source": [
    "summary_scores = pickle.load(open('../data/processed/cnn/refresh_scores.pkl', 'rb'))"
   ]
  },
  {
   "cell_type": "code",
<<<<<<< HEAD
   "execution_count": 6,
=======
   "execution_count": 16,
>>>>>>> 14ba256f457a7ef567dfb2011af64a82a4e13fb4
   "metadata": {},
   "outputs": [
    {
     "data": {
      "text/plain": [
       "EncoderDecoder(\n",
       "  (sentenceEncoder): KimCNN(\n",
       "    (embeddings): Embedding(400002, 200)\n",
       "    (convolutions): ModuleList(\n",
       "      (0): Conv2d(1, 50, kernel_size=(1, 200), stride=(1, 1))\n",
       "      (1): Conv2d(1, 50, kernel_size=(2, 200), stride=(1, 1))\n",
       "      (2): Conv2d(1, 50, kernel_size=(3, 200), stride=(1, 1))\n",
       "      (3): Conv2d(1, 50, kernel_size=(4, 200), stride=(1, 1))\n",
       "      (4): Conv2d(1, 50, kernel_size=(5, 200), stride=(1, 1))\n",
       "      (5): Conv2d(1, 50, kernel_size=(6, 200), stride=(1, 1))\n",
       "      (6): Conv2d(1, 50, kernel_size=(7, 200), stride=(1, 1))\n",
       "    )\n",
       "  )\n",
       "  (documentEncoder): LSTM(350, 600, batch_first=True)\n",
       "  (documentDecoder): LSTM(350, 600, batch_first=True)\n",
       "  (classifier): Linear(in_features=600, out_features=2, bias=True)\n",
       ")"
      ]
     },
<<<<<<< HEAD
     "execution_count": 6,
=======
     "execution_count": 16,
>>>>>>> 14ba256f457a7ef567dfb2011af64a82a4e13fb4
     "metadata": {},
     "output_type": "execute_result"
    }
   ],
   "source": [
    "m = EncoderDecoder(torch.cuda.FloatTensor(g.vectors), word_emb_size=g.dim, \n",
    "                       sen_emb_size=350, doc_emb_size=600, sen_len=50, batch_size=20, output_dim=2,\n",
    "                       reverse=True)\n",
    "m.cuda()"
   ]
  },
  {
   "cell_type": "code",
<<<<<<< HEAD
   "execution_count": 7,
   "metadata": {},
   "outputs": [
    {
     "name": "stdout",
     "output_type": "stream",
     "text": [
      "torch.Size([10, 31, 2])\n",
      "torch.Size([2, 79, 2])\n",
      "torch.Size([15, 23, 2])\n",
      "torch.Size([6, 63, 2])\n",
      "torch.Size([1, 84, 2])\n",
      "torch.Size([4, 80, 2])\n",
      "torch.Size([8, 10, 2])\n",
      "torch.Size([5, 57, 2])\n",
      "torch.Size([20, 36, 2])\n",
      "torch.Size([4, 20, 2])\n",
      "torch.Size([3, 83, 2])\n",
      "torch.Size([20, 33, 2])\n",
      "torch.Size([14, 30, 2])\n",
      "torch.Size([5, 53, 2])\n",
      "torch.Size([1, 27, 2])\n",
      "torch.Size([18, 24, 2])\n",
      "torch.Size([20, 18, 2])\n",
      "torch.Size([17, 40, 2])\n",
      "torch.Size([20, 22, 2])\n",
      "torch.Size([7, 32, 2])\n",
      "torch.Size([18, 42, 2])\n",
      "torch.Size([15, 47, 2])\n",
      "torch.Size([2, 72, 2])\n",
      "torch.Size([11, 14, 2])\n",
      "torch.Size([8, 7, 2])\n",
      "torch.Size([2, 81, 2])\n",
      "torch.Size([12, 15, 2])\n",
      "torch.Size([3, 73, 2])\n",
      "torch.Size([20, 12, 2])\n",
      "torch.Size([20, 14, 2])\n",
      "torch.Size([4, 85, 2])\n",
      "torch.Size([20, 13, 2])\n",
      "torch.Size([3, 54, 2])\n",
      "torch.Size([2, 67, 2])\n",
      "torch.Size([20, 10, 2])\n",
      "torch.Size([20, 31, 2])\n",
      "torch.Size([2, 88, 2])\n",
      "torch.Size([20, 29, 2])\n",
      "torch.Size([11, 8, 2])\n",
      "torch.Size([6, 90, 2])\n",
      "torch.Size([3, 82, 2])\n",
      "torch.Size([12, 43, 2])\n",
      "torch.Size([20, 39, 2])\n",
      "torch.Size([3, 61, 2])\n",
      "torch.Size([20, 11, 2])\n",
      "torch.Size([19, 34, 2])\n",
      "torch.Size([20, 9, 2])\n",
      "torch.Size([20, 28, 2])\n",
      "torch.Size([8, 16, 2])\n",
      "torch.Size([20, 19, 2])\n",
      "torch.Size([3, 58, 2])\n",
      "torch.Size([20, 26, 2])\n",
      "torch.Size([3, 11, 2])\n",
      "torch.Size([12, 45, 2])\n",
      "torch.Size([20, 15, 2])\n",
      "torch.Size([10, 52, 2])\n",
      "torch.Size([6, 65, 2])\n",
      "torch.Size([7, 36, 2])\n",
      "torch.Size([20, 32, 2])\n",
      "torch.Size([8, 18, 2])\n",
      "torch.Size([2, 39, 2])\n",
      "torch.Size([20, 17, 2])\n",
      "torch.Size([20, 35, 2])\n",
      "torch.Size([4, 66, 2])\n",
      "torch.Size([13, 41, 2])\n",
      "torch.Size([1, 64, 2])\n",
      "torch.Size([2, 69, 2])\n",
      "torch.Size([5, 75, 2])\n",
      "torch.Size([20, 20, 2])\n",
      "torch.Size([20, 16, 2])\n",
      "torch.Size([2, 77, 2])\n",
      "torch.Size([11, 44, 2])\n",
      "torch.Size([4, 6, 2])\n",
      "torch.Size([5, 21, 2])\n",
      "torch.Size([5, 62, 2])\n",
      "torch.Size([19, 22, 2])\n",
      "torch.Size([11, 38, 2])\n",
      "torch.Size([7, 12, 2])\n",
      "torch.Size([2, 4, 2])\n",
      "torch.Size([20, 17, 2])\n",
      "torch.Size([10, 48, 2])\n",
      "torch.Size([10, 26, 2])\n",
      "torch.Size([15, 19, 2])\n",
      "torch.Size([7, 56, 2])\n",
      "torch.Size([7, 59, 2])\n",
      "torch.Size([10, 51, 2])\n",
      "torch.Size([20, 27, 2])\n",
      "torch.Size([13, 50, 2])\n",
      "torch.Size([1, 17, 2])\n",
      "torch.Size([1, 5, 2])\n",
      "torch.Size([20, 25, 2])\n",
      "torch.Size([1, 78, 2])\n",
      "torch.Size([16, 46, 2])\n",
      "torch.Size([1, 70, 2])\n",
      "torch.Size([8, 60, 2])\n",
      "torch.Size([3, 76, 2])\n",
      "torch.Size([16, 37, 2])\n",
      "torch.Size([1, 25, 2])\n",
      "torch.Size([3, 35, 2])\n",
      "torch.Size([20, 21, 2])\n",
      "torch.Size([14, 55, 2])\n",
      "torch.Size([1, 68, 2])\n",
      "torch.Size([1, 29, 2])\n",
      "torch.Size([4, 33, 2])\n",
      "torch.Size([4, 28, 2])\n",
      "torch.Size([7, 13, 2])\n",
      "torch.Size([2, 74, 2])\n",
      "torch.Size([11, 49, 2])\n"
     ]
    }
   ],
   "source": [
    "get_summaries(m, test.lines, test.batches, \n",
    "                      doc_folder='../data/parsed_data/cnn/test/documents/', \n",
    "                      write_folder='../temp/', \n",
    "                      output_dim=2, summary_len=3)"
   ]
  },
  {
   "cell_type": "code",
   "execution_count": null,
=======
   "execution_count": 24,
>>>>>>> 14ba256f457a7ef567dfb2011af64a82a4e13fb4
   "metadata": {},
   "outputs": [],
   "source": [
    "iterations = 10\n",
    "if not os.path.exists('../temp'):  os.mkdir('../temp')"
   ]
  },
  {
   "cell_type": "code",
   "execution_count": null,
   "metadata": {},
   "outputs": [],
   "source": [
    "for i in range(iterations):\n",
    "    train_refresh(m, batches=train.batches, lines=train.lines, scores=summary_scores, \n",
<<<<<<< HEAD
    "                          iterations=1, max_=5, single_sample=True)\n",
=======
    "                          iterations=1, max_=15, single_sample=True)\n",
>>>>>>> 14ba256f457a7ef567dfb2011af64a82a4e13fb4
    "    \n",
    "    get_summaries(m, test.lines, test.batches, \n",
    "                      doc_folder='../data/parsed_data/cnn/test/documents/', \n",
    "                      write_folder='../temp/', \n",
    "                      output_dim=2, summary_len=3)\n",
    "    \n",
    "    scores = computeRouge('../data/parsed_data/cnn/test/summaries/', '../temp/')\n",
    "    \n",
    "    torch.save(m.state_dict(), 'R1_f1_' + str(scores[0]) + '.params')"
   ]
<<<<<<< HEAD
  },
  {
   "cell_type": "code",
   "execution_count": null,
   "metadata": {},
   "outputs": [],
   "source": []
=======
>>>>>>> 14ba256f457a7ef567dfb2011af64a82a4e13fb4
  }
 ],
 "metadata": {
  "kernelspec": {
   "display_name": "AI",
   "language": "python",
   "name": "ai"
  },
  "language_info": {
   "codemirror_mode": {
    "name": "ipython",
    "version": 3
   },
   "file_extension": ".py",
   "mimetype": "text/x-python",
   "name": "python",
   "nbconvert_exporter": "python",
   "pygments_lexer": "ipython3",
   "version": "3.6.6"
  }
 },
 "nbformat": 4,
 "nbformat_minor": 2
}
