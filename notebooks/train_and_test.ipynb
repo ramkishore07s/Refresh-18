{
 "cells": [
  {
   "cell_type": "code",
   "execution_count": 26,
   "metadata": {},
   "outputs": [],
   "source": [
    "%run dataset.ipynb\n",
    "%run model.ipynb\n",
    "%run utils.ipynb\n",
    "%run rouge.ipynb"
   ]
  },
  {
   "cell_type": "code",
   "execution_count": 2,
   "metadata": {},
   "outputs": [],
   "source": [
    "torch.cuda.set_device(1)"
   ]
  },
  {
   "cell_type": "code",
   "execution_count": 5,
   "metadata": {},
   "outputs": [],
   "source": [
    "g = NeuralSumToEmbedding(glove_filename='/home/ramkishore.s/meta/glove/glove.6B.200d.txt')\n",
    "g.vectors = g.vectors.reshape(-1, g.dim)"
   ]
  },
  {
   "cell_type": "code",
   "execution_count": 17,
   "metadata": {},
   "outputs": [],
   "source": [
    "train = DataHandler()\n",
    "train.load_dump('../data/processed/cnn/training.pkl')\n",
    "train.pad(padding_idx=g.padding_idx)\n",
    "train.make_batches(20)"
   ]
  },
  {
   "cell_type": "code",
   "execution_count": 23,
   "metadata": {},
   "outputs": [],
   "source": [
    "test = DataHandler()\n",
    "test.load_dump('../data/processed/cnn/test.pkl')\n",
    "test.pad(padding_idx=g.padding_idx)\n",
    "test.make_batches(20)"
   ]
  },
  {
   "cell_type": "code",
   "execution_count": 11,
   "metadata": {},
   "outputs": [],
   "source": [
    "summary_scores = pickle.load(open('../data/processed/cnn/refresh_scores.pkl', 'rb'))"
   ]
  },
  {
   "cell_type": "code",
   "execution_count": 16,
   "metadata": {},
   "outputs": [
    {
     "data": {
      "text/plain": [
       "EncoderDecoder(\n",
       "  (sentenceEncoder): KimCNN(\n",
       "    (embeddings): Embedding(400002, 200)\n",
       "    (convolutions): ModuleList(\n",
       "      (0): Conv2d(1, 50, kernel_size=(1, 200), stride=(1, 1))\n",
       "      (1): Conv2d(1, 50, kernel_size=(2, 200), stride=(1, 1))\n",
       "      (2): Conv2d(1, 50, kernel_size=(3, 200), stride=(1, 1))\n",
       "      (3): Conv2d(1, 50, kernel_size=(4, 200), stride=(1, 1))\n",
       "      (4): Conv2d(1, 50, kernel_size=(5, 200), stride=(1, 1))\n",
       "      (5): Conv2d(1, 50, kernel_size=(6, 200), stride=(1, 1))\n",
       "      (6): Conv2d(1, 50, kernel_size=(7, 200), stride=(1, 1))\n",
       "    )\n",
       "  )\n",
       "  (documentEncoder): LSTM(350, 600, batch_first=True)\n",
       "  (documentDecoder): LSTM(350, 600, batch_first=True)\n",
       "  (classifier): Linear(in_features=600, out_features=2, bias=True)\n",
       ")"
      ]
     },
     "execution_count": 16,
     "metadata": {},
     "output_type": "execute_result"
    }
   ],
   "source": [
    "m = EncoderDecoder(torch.cuda.FloatTensor(g.vectors), word_emb_size=g.dim, \n",
    "                       sen_emb_size=350, doc_emb_size=600, sen_len=50, batch_size=20, output_dim=2,\n",
    "                       reverse=True)\n",
    "m.cuda()"
   ]
  },
  {
   "cell_type": "code",
   "execution_count": 24,
   "metadata": {},
   "outputs": [],
   "source": [
    "iterations = 10\n",
    "if not os.path.exists('../temp'):  os.mkdir('../temp')"
   ]
  },
  {
   "cell_type": "code",
   "execution_count": null,
   "metadata": {},
   "outputs": [],
   "source": [
    "for i in range(iterations):\n",
    "    train_refresh(m, batches=train.batches, lines=train.lines, scores=summary_scores, \n",
    "                          iterations=1, max_=15, single_sample=True)\n",
    "    \n",
    "    get_summaries(m, test.lines, test.batches, \n",
    "                      doc_folder='../data/parsed_data/cnn/test/documents/', \n",
    "                      write_folder='../temp/', \n",
    "                      output_dim=2, summary_len=3)\n",
    "    \n",
    "    scores = computeRouge('../data/parsed_data/cnn/test/summaries/', '../temp/')\n",
    "    \n",
    "    torch.save(m.state_dict(), 'R1_f1_' + str(scores[0]) + '.params')"
   ]
  }
 ],
 "metadata": {
  "kernelspec": {
   "display_name": "AI",
   "language": "python",
   "name": "ai"
  },
  "language_info": {
   "codemirror_mode": {
    "name": "ipython",
    "version": 3
   },
   "file_extension": ".py",
   "mimetype": "text/x-python",
   "name": "python",
   "nbconvert_exporter": "python",
   "pygments_lexer": "ipython3",
   "version": "3.6.6"
  }
 },
 "nbformat": 4,
 "nbformat_minor": 2
}
