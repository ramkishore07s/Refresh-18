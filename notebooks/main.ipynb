{
 "cells": [
  {
   "cell_type": "code",
   "execution_count": null,
   "metadata": {},
   "outputs": [],
   "source": [
    "%run paths.ipynb\n",
    "%run preprocess.ipynb\n",
    "%run rouge.ipynb"
   ]
  },
  {
   "cell_type": "markdown",
   "metadata": {},
   "source": [
    "**PARSE RAW DATA TO TEXT FILES**"
   ]
  },
  {
   "cell_type": "code",
   "execution_count": null,
   "metadata": {
    "collapsed": true
   },
   "outputs": [],
   "source": [
    "p = parseNeuralSum()"
   ]
  },
  {
   "cell_type": "code",
   "execution_count": null,
   "metadata": {
    "collapsed": true
   },
   "outputs": [],
   "source": [
    "p.parse_folder_1(input_folder=CONFIG.RAW_CNN_TRAIN_FOLDER, target_document_folder=CONFIG.CNN_TRAIN_DOCUMENTS_FOLDER, \n",
    "                 target_output_folder=CONFIG.CNN_TRAIN_OUTPUT_FOLDER, target_summary_folder=CONFIG.CNN_TRAIN_SUMMARY_FOLDER)\n",
    "p.parse_folder_1(input_folder=CONFIG.RAW_CNN_TEST_FOLDER, target_document_folder=CONFIG.CNN_TEST_DOCUMENTS_FOLDER, \n",
    "                 target_output_folder=CONFIG.CNN_TEST_OUTPUT_FOLDER, target_summary_folder=CONFIG.CNN_TEST_SUMMARY_FOLDER)\n",
    "p.parse_folder_1(input_folder=CONFIG.RAW_CNN_VALIDATION_FOLDER, target_document_folder=CONFIG.CNN_VALIDATION_DOCUMENTS_FOLDER, \n",
    "                 target_output_folder=CONFIG.CNN_VALIDATION_OUTPUT_FOLDER, target_summary_folder=CONFIG.CNN_VALIDATION_SUMMARY_FOLDER)"
   ]
  },
  {
   "cell_type": "markdown",
   "metadata": {},
   "source": [
    "**CONVERT TEXT DATA TO WORD EMBEDDING IDS**"
   ]
  },
  {
   "cell_type": "code",
   "execution_count": null,
   "metadata": {
    "collapsed": true
   },
   "outputs": [],
   "source": [
    "g = NeuralSumGlove(glove_filename=CONFIG.GLOVE_FILENAME)"
   ]
  },
  {
   "cell_type": "code",
   "execution_count": null,
   "metadata": {
    "collapsed": true
   },
   "outputs": [],
   "source": [
    "g.convert_to_indices_(document_folder=CONFIG.CNN_TRAIN_DOCUMENTS_FOLDER, output_folder=CONFIG.CNN_TRAIN_OUTPUT_FOLDER, \n",
    "                     dump_file=CONFIG.CNN_TRAIN_DUMP)\n",
    "g.convert_to_indices_(document_folder=CONFIG.CNN_TEST_DOCUMENTS_FOLDER, output_folder=CONFIG.CNN_TEST_OUTPUT_FOLDER, \n",
    "                     dump_file=CONFIG.CNN_TEST_DUMP)\n",
    "g.convert_to_indices_(document_folder=CONFIG.CNN_VALIDATION_DOCUMENTS_FOLDER, output_folder=CONFIG.CNN_VALIDATION_OUTPUT_FOLDER, \n",
    "                     dump_file=CONFIG.CNN_VALIDATION_DUMP)"
   ]
  },
  {
   "cell_type": "code",
   "execution_count": null,
   "metadata": {
    "collapsed": true
   },
   "outputs": [],
   "source": [
    "g.dump_all(CONFIG.GLOVE_CACHE_FILENAME)"
   ]
  },
  {
   "cell_type": "markdown",
   "metadata": {},
   "source": [
    "**PAD EMBEDDING IDS DATA**"
   ]
  },
  {
   "cell_type": "code",
   "execution_count": null,
   "metadata": {
    "collapsed": true
   },
   "outputs": [],
   "source": [
    "d = NeuralSumDataHandler()"
   ]
  },
  {
   "cell_type": "code",
   "execution_count": null,
   "metadata": {
    "collapsed": true
   },
   "outputs": [],
   "source": [
    "d.load_dump(CONFIG.CNN_TRAIN_DUMP)\n",
    "d.pad(output=True)\n",
    "d.padded_dump(CONFIG.CNN_PADDED_TRAIN_DUMP)\n",
    "d.load_dump(CONFIG.CNN_TEST_DUMP)\n",
    "d.pad(output=True)\n",
    "d.padded_dump(CONFIG.CNN_PADDED_TEST_DUMP)"
   ]
  },
  {
   "cell_type": "markdown",
   "metadata": {},
   "source": [
    "**COMPUTE ROUGE SCORES FOR REINFORCE TRAINING**"
   ]
  },
  {
   "cell_type": "code",
   "execution_count": null,
   "metadata": {},
   "outputs": [],
   "source": [
    "%%time\n",
    "r = RougeNeuralSum()\n",
    "r.computeRefreshScores(CONFIG.CNN_TRAIN_DOCUMENTS_FOLDER, CONFIG.CNN_TRAIN_SUMMARY_FOLDER)\n",
    "r.dump(CONFIG.CNN_TRAIN_ROUGE_DUMP)"
   ]
  },
  {
   "cell_type": "markdown",
   "metadata": {},
   "source": [
    "**RUN FROM HERE FOR TRAINING**"
   ]
  },
  {
   "cell_type": "code",
   "execution_count": 42,
   "metadata": {
    "collapsed": true
   },
   "outputs": [],
   "source": [
    "%run paths.ipynb\n",
    "%run preprocess.ipynb\n",
    "%run model.ipynb\n",
    "%run utils.ipynb\n",
    "%run rouge.ipynb"
   ]
  },
  {
   "cell_type": "code",
   "execution_count": 75,
   "metadata": {},
   "outputs": [],
   "source": [
    "d = NeuralSumDataHandler()\n",
    "d.load_padded_dump(CONFIG.CNN_PADDED_TRAIN_DUMP)\n",
    "d.make_batches(20)\n",
    "\n",
    "g = NeuralSumGlove(dump_filename=CONFIG.GLOVE_CACHE_FILENAME)\n",
    "\n",
    "r = RougeNeuralSum()\n",
    "r.load(CONFIG.CNN_TRAIN_ROUGE_DUMP)\n",
    "\n",
    "torch.cuda.set_device(0)"
   ]
  },
  {
   "cell_type": "code",
   "execution_count": 44,
   "metadata": {},
   "outputs": [
    {
     "data": {
      "text/plain": [
       "EncoderDecoder(\n",
       "  (sentenceEncoder): LSTMSentenceEncoderParallel(\n",
       "    (embeddings): Embedding(400001, 100, padding_idx=400000)\n",
       "    (sentenceEncoder): LSTM(100, 150, batch_first=True)\n",
       "  )\n",
       "  (documentEncoder): LSTM(150, 200, batch_first=True)\n",
       "  (documentDecoder): LSTM(150, 200, batch_first=True)\n",
       "  (classifier): Linear(in_features=200, out_features=1, bias=True)\n",
       ")"
      ]
     },
     "execution_count": 44,
     "metadata": {},
     "output_type": "execute_result"
    }
   ],
   "source": [
    "m = EncoderDecoder(g.vectors, word_emb_size=g.dim, sen_emb_size=150, doc_emb_size=200, sen_len=50, batch_size=20, output_dim=1)\n",
    "m.cuda()"
   ]
  },
  {
   "cell_type": "code",
   "execution_count": null,
   "metadata": {},
   "outputs": [
    {
     "name": "stdout",
     "output_type": "stream",
     "text": [
      "tensor([0.8418], device='cuda:0') 3420\r"
     ]
    }
   ],
   "source": [
    "train_reinforce(m, batches=d.batches, lines=d.lines, scores=r.summary_scores, iterations=1)"
   ]
  },
  {
   "cell_type": "code",
   "execution_count": 74,
   "metadata": {},
   "outputs": [],
   "source": [
    "torch.save(m.state_dict(), '../parameters/best_params')"
   ]
  },
  {
   "cell_type": "markdown",
   "metadata": {},
   "source": [
    "**RUN FROM HERE FOR TESTING**"
   ]
  },
  {
   "cell_type": "code",
   "execution_count": null,
   "metadata": {
    "collapsed": true
   },
   "outputs": [],
   "source": [
    "%run paths.ipynb\n",
    "%run preprocess.ipynb\n",
    "%run model.ipynb\n",
    "%run utils.ipynb\n",
    "%run rouge.ipynb"
   ]
  },
  {
   "cell_type": "code",
   "execution_count": null,
   "metadata": {
    "collapsed": true
   },
   "outputs": [],
   "source": [
    "d = NeuralSumDataHandler()\n",
    "d.load_padded_dump(CONFIG.CNN_PADDED_TEST_DUMP)\n",
    "d.make_batches(20)\n",
    "g = NeuralSumGlove(dump_filename=CONFIG.GLOVE_CACHE_FILENAME)"
   ]
  },
  {
   "cell_type": "code",
   "execution_count": null,
   "metadata": {},
   "outputs": [],
   "source": [
    "#m = EncoderDecoder(g.vectors, word_emb_size=g.dim, sen_emb_size=150, doc_emb_size=200, sen_len=50, batch_size=20, output_dim=1)\n",
    "#m.load_state_dict(torch.load('../parameters/parameters'))\n",
    "#m.cuda()"
   ]
  },
  {
   "cell_type": "code",
   "execution_count": null,
   "metadata": {},
   "outputs": [],
   "source": [
    "compute_accuracies(m, d.lines, d.output, d.batches)"
   ]
  },
  {
   "cell_type": "code",
   "execution_count": null,
   "metadata": {},
   "outputs": [],
   "source": [
    "get_summaries(m, d.lines, d.batches, doc_folder=CONFIG.CNN_TEST_DOCUMENTS_FOLDER, write_folder=CONFIG.PREDICTED_SUMMARY_FOLDER)\n",
    "output = computeRouge(CONFIG.PREDICTED_SUMMARY_FOLDER, CONFIG.CNN_TEST_SUMMARY_FOLDER)"
   ]
  },
  {
   "cell_type": "code",
   "execution_count": null,
   "metadata": {
    "collapsed": true
   },
   "outputs": [],
   "source": [
    "output[1]"
   ]
  },
  {
   "cell_type": "code",
   "execution_count": 72,
   "metadata": {},
   "outputs": [
    {
     "data": {
      "text/plain": [
       "{'rouge_1_f_score': 0.28506,\n",
       " 'rouge_1_f_score_cb': 0.27835,\n",
       " 'rouge_1_f_score_ce': 0.29201,\n",
       " 'rouge_1_precision': 0.21359,\n",
       " 'rouge_1_precision_cb': 0.20829,\n",
       " 'rouge_1_precision_ce': 0.2192,\n",
       " 'rouge_1_recall': 0.46002,\n",
       " 'rouge_1_recall_cb': 0.44929,\n",
       " 'rouge_1_recall_ce': 0.47023,\n",
       " 'rouge_2_f_score': 0.0953,\n",
       " 'rouge_2_f_score_cb': 0.08971,\n",
       " 'rouge_2_f_score_ce': 0.10115,\n",
       " 'rouge_2_precision': 0.07068,\n",
       " 'rouge_2_precision_cb': 0.06646,\n",
       " 'rouge_2_precision_ce': 0.07517,\n",
       " 'rouge_2_recall': 0.15691,\n",
       " 'rouge_2_recall_cb': 0.14778,\n",
       " 'rouge_2_recall_ce': 0.16641,\n",
       " 'rouge_3_f_score': 0.05155,\n",
       " 'rouge_3_f_score_cb': 0.04718,\n",
       " 'rouge_3_f_score_ce': 0.05655,\n",
       " 'rouge_3_precision': 0.0381,\n",
       " 'rouge_3_precision_cb': 0.03479,\n",
       " 'rouge_3_precision_ce': 0.0419,\n",
       " 'rouge_3_recall': 0.08567,\n",
       " 'rouge_3_recall_cb': 0.07843,\n",
       " 'rouge_3_recall_ce': 0.09363,\n",
       " 'rouge_4_f_score': 0.03318,\n",
       " 'rouge_4_f_score_cb': 0.02969,\n",
       " 'rouge_4_f_score_ce': 0.03714,\n",
       " 'rouge_4_precision': 0.02451,\n",
       " 'rouge_4_precision_cb': 0.0219,\n",
       " 'rouge_4_precision_ce': 0.02753,\n",
       " 'rouge_4_recall': 0.05542,\n",
       " 'rouge_4_recall_cb': 0.04952,\n",
       " 'rouge_4_recall_ce': 0.0621,\n",
       " 'rouge_l_f_score': 0.25245,\n",
       " 'rouge_l_f_score_cb': 0.24626,\n",
       " 'rouge_l_f_score_ce': 0.25897,\n",
       " 'rouge_l_precision': 0.18908,\n",
       " 'rouge_l_precision_cb': 0.18413,\n",
       " 'rouge_l_precision_ce': 0.19416,\n",
       " 'rouge_l_recall': 0.40782,\n",
       " 'rouge_l_recall_cb': 0.39786,\n",
       " 'rouge_l_recall_ce': 0.41807,\n",
       " 'rouge_s*_f_score': 0.06467,\n",
       " 'rouge_s*_f_score_cb': 0.06144,\n",
       " 'rouge_s*_f_score_ce': 0.06815,\n",
       " 'rouge_s*_precision': 0.04193,\n",
       " 'rouge_s*_precision_cb': 0.03971,\n",
       " 'rouge_s*_precision_ce': 0.04429,\n",
       " 'rouge_s*_recall': 0.19203,\n",
       " 'rouge_s*_recall_cb': 0.18298,\n",
       " 'rouge_s*_recall_ce': 0.20142,\n",
       " 'rouge_su*_f_score': 0.07244,\n",
       " 'rouge_su*_f_score_cb': 0.06905,\n",
       " 'rouge_su*_f_score_ce': 0.07604,\n",
       " 'rouge_su*_precision': 0.04714,\n",
       " 'rouge_su*_precision_cb': 0.04481,\n",
       " 'rouge_su*_precision_ce': 0.04963,\n",
       " 'rouge_su*_recall': 0.20978,\n",
       " 'rouge_su*_recall_cb': 0.20059,\n",
       " 'rouge_su*_recall_ce': 0.2193,\n",
       " 'rouge_w_1.2_f_score': 0.16214,\n",
       " 'rouge_w_1.2_f_score_cb': 0.15802,\n",
       " 'rouge_w_1.2_f_score_ce': 0.16656,\n",
       " 'rouge_w_1.2_precision': 0.14694,\n",
       " 'rouge_w_1.2_precision_cb': 0.143,\n",
       " 'rouge_w_1.2_precision_ce': 0.15113,\n",
       " 'rouge_w_1.2_recall': 0.1939,\n",
       " 'rouge_w_1.2_recall_cb': 0.18873,\n",
       " 'rouge_w_1.2_recall_ce': 0.19948}"
      ]
     },
     "execution_count": 72,
     "metadata": {},
     "output_type": "execute_result"
    }
   ],
   "source": [
    "output[1]"
   ]
  },
  {
   "cell_type": "code",
   "execution_count": 53,
   "metadata": {},
   "outputs": [
    {
     "name": "stdout",
     "output_type": "stream",
     "text": [
      "@entity1 , @entity2 amid growing scrutiny over whether a 73 - year - old volunteer deputy who killed a suspect during a sting operation was qualified to be policing the streets , a new report raises a troubling allegation\n",
      "@entity15 claims he meant to use his taser but accidentally fired his handgun at @entity23 instead\n",
      "claims that the volunteer deputy 's records had been falsified emerged \" almost immediately \" from multiple sources after @entity15 killed @entity23 on april 2 , reporter @entity18 said\n",
      "\n"
     ]
    }
   ],
   "source": [
    "get_file(1001, CONFIG.PREDICTED_SUMMARY_FOLDER)"
   ]
  },
  {
   "cell_type": "code",
   "execution_count": 54,
   "metadata": {},
   "outputs": [
    {
     "name": "stdout",
     "output_type": "stream",
     "text": [
      "@entity153 in @entity154 says @entity15 never trained with them\n",
      "\" he met every requirement , and all he did was give of himself , \" his attorney says\n",
      "@entity11 newspaper : three supervisors who refused to sign forged records on @entity15 were reassigned\n",
      "\n"
     ]
    }
   ],
   "source": [
    "get_file(1001, CONFIG.CNN_TEST_SUMMARY_FOLDER)"
   ]
  },
  {
   "cell_type": "code",
   "execution_count": null,
   "metadata": {
    "collapsed": true
   },
   "outputs": [],
   "source": []
  }
 ],
 "metadata": {
  "kernelspec": {
   "display_name": "refresh",
   "language": "python",
   "name": "refresh"
  },
  "language_info": {
   "codemirror_mode": {
    "name": "ipython",
    "version": 3
   },
   "file_extension": ".py",
   "mimetype": "text/x-python",
   "name": "python",
   "nbconvert_exporter": "python",
   "pygments_lexer": "ipython3",
   "version": "3.5.2"
  }
 },
 "nbformat": 4,
 "nbformat_minor": 2
}
