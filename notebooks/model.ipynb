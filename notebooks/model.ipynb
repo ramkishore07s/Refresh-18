{
 "cells": [
  {
   "cell_type": "code",
   "execution_count": 1,
   "metadata": {
    "collapsed": true
   },
   "outputs": [],
   "source": [
    "import torch\n",
    "import torch.nn as nn\n",
    "import torch.nn.functional as f\n",
    "from torch.autograd import Variable\n",
    "import numpy as np"
   ]
  },
  {
   "cell_type": "code",
   "execution_count": 2,
   "metadata": {
    "collapsed": true
   },
   "outputs": [],
   "source": [
    "def create_embedding_layer(weights, padding_idx=None):\n",
    "    weights = torch.FloatTensor(weights)\n",
    "    len_, dims = weights.size()\n",
    "    if not padding_idx: padding_idx = len_ - 1\n",
    "    emb_layer = torch.nn.Embedding(len_, dims, padding_idx=padding_idx)\n",
    "    emb_layer.load_state_dict({'weight': weights})\n",
    "    return emb_layer"
   ]
  },
  {
   "cell_type": "code",
   "execution_count": 3,
   "metadata": {
    "collapsed": true
   },
   "outputs": [],
   "source": [
    "class LSTMSentenceEncoderParallel(nn.Module):\n",
    "    def __init__(self, weights=None,\n",
    "                       word_emb_size=100,\n",
    "                       sen_emb_size=150,\n",
    "                       sen_len=50,\n",
    "                       batch_size=20):\n",
    "\n",
    "        super(LSTMSentenceEncoderParallel, self).__init__()\n",
    "        self.word_emb_size = word_emb_size\n",
    "        self.sen_emb_size = sen_emb_size\n",
    "        self.sen_len = sen_len\n",
    "        self.batch_size = batch_size\n",
    "        self.embeddings = create_embedding_layer(weights)\n",
    "        self.sentenceEncoder = nn.LSTM(word_emb_size, sen_emb_size, batch_first=True)\n",
    "        \n",
    "    def forward(self, input):\n",
    "        batch_size = input.size()[0]\n",
    "        words = self.embeddings(input.view(-1)).view(-1, self.sen_len, self.word_emb_size)\n",
    "        sentences = self.sentenceEncoder(words)[1][0].view(batch_size, -1, self.sen_emb_size)\n",
    "\n",
    "        return sentences"
   ]
  },
  {
   "cell_type": "code",
   "execution_count": 4,
   "metadata": {},
   "outputs": [],
   "source": [
    "class KimCNN(nn.Module):\n",
    "    def __init__(self, #mode='singlechannel',\n",
    "                 embedding_weights=None, embedding_dim=(400001, 300), padding_idx=400000,\n",
    "                 kernels=[3,4,5], out_channels=100):\n",
    "        super().__init__()\n",
    "        \n",
    "        self.embeddings = nn.Embedding(*embedding_dim) #, padding_idx=padding_idx)\n",
    "        #if embedding_weights is not None: self.embeddings.load_state_dict({'weight': embedding_weights})\n",
    "        \n",
    "        self.convolutions = nn.ModuleList([nn.Conv2d(in_channels=1, \n",
    "                                                     out_channels=out_channels, \n",
    "                                                     kernel_size=(k, embedding_dim[1])\n",
    "                                                     ) for k in kernels])\n",
    "        \n",
    "    def forward(self, input, dropout=False):\n",
    "        embeddings = self.embeddings(input)\n",
    "        embeddings = embeddings.unsqueeze(1)\n",
    "        conv_output = [f.relu(conv(embeddings).squeeze(-1)) for conv in self.convolutions]  # (batch * out_channels * strides_taken)     \n",
    "        pooled_output = [f.max_pool1d(item, item.size(2)).squeeze(-1) for item in conv_output]  # (batch * out_channels)\n",
    "        #sentence_embeddings = torch.stack(pooled_output, dim=-1).reshape(input.size(0), -1)\n",
    "        sentence_embeddings = torch.cat(pooled_output, 1)\n",
    "        \n",
    "        return sentence_embeddings"
   ]
  },
  {
   "cell_type": "code",
   "execution_count": 6,
   "metadata": {
    "collapsed": true
   },
   "outputs": [],
   "source": [
    "class EncoderDecoder(nn.Module):\n",
    "    def __init__(self, weights,\n",
    "                       word_emb_size=300,\n",
    "                       sen_emb_size=350,\n",
    "                       doc_emb_size=600,\n",
    "                       sen_len=50,\n",
    "                       batch_size=20,\n",
    "                       output_dim=2,\n",
    "                       reverse=False):\n",
    "        super(EncoderDecoder, self).__init__()\n",
    "        self.output_dim = output_dim\n",
    "        \n",
    "        # LSTM Sentence Encoder\n",
    "        #self.sentenceEncoder = LSTMSentenceEncoderParallel(weights, word_emb_size, sen_emb_size, sen_len, batch_size)\n",
    "        \n",
    "        # CNN Sentence Encoder\n",
    "        self.sentenceEncoder = KimCNN(embedding_weights=weights, \n",
    "                                      embedding_dim=weights.shape, \n",
    "                                      kernels=[1,2,3,4,5,6,7], \n",
    "                                      out_channels=50)\n",
    "        self.documentEncoder = nn.LSTM(sen_emb_size, doc_emb_size, batch_first=True)\n",
    "        self.documentDecoder = nn.LSTM(sen_emb_size, doc_emb_size, batch_first=True)\n",
    "        self.classifier = nn.Linear(doc_emb_size, output_dim)\n",
    "        self.reverse = reverse\n",
    "        \n",
    "    def forward(self, input):\n",
    "        # LSTM Sentence Encoder\n",
    "        #sentences = self.sentenceEncoder(input)\n",
    "        \n",
    "        # CNN sentence Encoder\n",
    "        batch_size, no_sentences, sen_len = input.size()\n",
    "        words = input.reshape(-1, sen_len)\n",
    "        sentences = self.sentenceEncoder(words).reshape(batch_size, no_sentences, -1)\n",
    "        \n",
    "        no_sentences = sentences.size(1)\n",
    "        if self.reverse:\n",
    "            try:\n",
    "                sentences = sentences.index_select(1, torch.linspace(no_sentences-1, 0, no_sentences).long().cuda())\n",
    "            except:\n",
    "                sentences = sentences.index_select(1, torch.linspace(no_sentences-1, 0, no_sentences).long())\n",
    "                \n",
    "        hidden, (document_h, document_c) = self.documentEncoder(sentences)\n",
    "        decoder_outputs = self.documentDecoder(sentences, (document_h, document_c))[0]\n",
    "        if self.output_dim == 1:\n",
    "            output = torch.sigmoid(self.classifier(decoder_outputs))\n",
    "            output = output.reshape(input.size()[0], -1)\n",
    "        else:\n",
    "            output = torch.log_softmax(self.classifier(decoder_outputs), dim=-1)\n",
    "        return output"
   ]
  }
 ],
 "metadata": {
  "kernelspec": {
   "display_name": "AI",
   "language": "python",
   "name": "ai"
  },
  "language_info": {
   "codemirror_mode": {
    "name": "ipython",
    "version": 3
   },
   "file_extension": ".py",
   "mimetype": "text/x-python",
   "name": "python",
   "nbconvert_exporter": "python",
   "pygments_lexer": "ipython3",
   "version": "3.6.6"
  }
 },
 "nbformat": 4,
 "nbformat_minor": 2
}
