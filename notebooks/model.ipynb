{
 "cells": [
  {
   "cell_type": "code",
   "execution_count": 4,
   "metadata": {
    "collapsed": true
   },
   "outputs": [],
   "source": [
    "import torch\n",
    "import torch.nn as nn\n",
    "import torch.nn.functional as f\n",
    "from torch.autograd import Variable\n",
    "import numpy as np"
   ]
  },
  {
   "cell_type": "code",
   "execution_count": 5,
   "metadata": {
    "collapsed": true
   },
   "outputs": [],
   "source": [
    "def create_embedding_layer(weights, padding_idx=None):\n",
    "    weights = torch.FloatTensor(weights)\n",
    "    len_, dims = weights.size()\n",
    "    if not padding_idx: padding_idx = len_ - 1\n",
    "    emb_layer = torch.nn.Embedding(len_, dims, padding_idx=padding_idx)\n",
    "    emb_layer.load_state_dict({'weight': weights})\n",
    "    return emb_layer"
   ]
  },
  {
   "cell_type": "code",
   "execution_count": 6,
   "metadata": {
    "collapsed": true
   },
   "outputs": [],
   "source": [
    "class LSTMSentenceEncoderParallel(nn.Module):\n",
    "    def __init__(self, weights=None,\n",
    "                       word_emb_size=100,\n",
    "                       sen_emb_size=150,\n",
    "                       sen_len=50,\n",
    "                       batch_size=20):\n",
    "\n",
    "        super(LSTMSentenceEncoderParallel, self).__init__()\n",
    "        self.word_emb_size = word_emb_size\n",
    "        self.sen_emb_size = sen_emb_size\n",
    "        self.sen_len = sen_len\n",
    "        self.batch_size = batch_size\n",
    "        self.embeddings = create_embedding_layer(weights)\n",
    "        self.sentenceEncoder = nn.LSTM(word_emb_size, sen_emb_size, batch_first=True)\n",
    "        \n",
    "    def forward(self, input):\n",
    "        batch_size = input.size()[0]\n",
    "        words = self.embeddings(input.view(-1)).view(-1, self.sen_len, self.word_emb_size)\n",
    "        sentences = self.sentenceEncoder(words)[1][0].view(batch_size, -1, self.sen_emb_size)\n",
    "\n",
    "        return sentences"
   ]
  },
  {
   "cell_type": "code",
   "execution_count": 8,
   "metadata": {
    "collapsed": true
   },
   "outputs": [],
   "source": [
    "class EncoderDecoder(nn.Module):\n",
    "    def __init__(self, weights,\n",
    "                       word_emb_size=100,\n",
    "                       sen_emb_size=150,\n",
    "                       doc_emb_size=300,\n",
    "                       sen_len=50,\n",
    "                       batch_size=20,\n",
    "                       output_dim=2):\n",
    "        super(EncoderDecoder, self).__init__()\n",
    "        self.output_dim = output_dim\n",
    "        self.sentenceEncoder = LSTMSentenceEncoderParallel(weights, word_emb_size, sen_emb_size, sen_len, batch_size)\n",
    "        self.documentEncoder = nn.LSTM(sen_emb_size, doc_emb_size, batch_first=True)\n",
    "        self.documentDecoder = nn.LSTM(sen_emb_size, doc_emb_size, batch_first=True)\n",
    "        self.classifier = nn.Linear(doc_emb_size, output_dim)\n",
    "        \n",
    "    def forward(self, input):\n",
    "        sentences = self.sentenceEncoder(input)\n",
    "        hidden, (document_h, document_c) = self.documentEncoder(sentences)\n",
    "        decoder_outputs = self.documentDecoder(sentences, (document_h, document_c))[0]\n",
    "        if self.output_dim == 1:\n",
    "            output = torch.sigmoid(self.classifier(decoder_outputs))\n",
    "            output = output.reshape(input.size()[0], -1)\n",
    "        else:\n",
    "            output = torch.softmax(self.classifier(decoder_outputs), dim=-1)\n",
    "        return output"
   ]
  }
 ],
 "metadata": {
  "kernelspec": {
   "display_name": "refresh",
   "language": "python",
   "name": "refresh"
  },
  "language_info": {
   "codemirror_mode": {
    "name": "ipython",
    "version": 3
   },
   "file_extension": ".py",
   "mimetype": "text/x-python",
   "name": "python",
   "nbconvert_exporter": "python",
   "pygments_lexer": "ipython3",
   "version": "3.5.2"
  }
 },
 "nbformat": 4,
 "nbformat_minor": 2
}
